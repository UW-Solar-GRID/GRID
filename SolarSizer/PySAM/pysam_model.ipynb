{
 "cells": [
  {
   "cell_type": "code",
   "execution_count": 8,
   "id": "50b66bae",
   "metadata": {},
   "outputs": [],
   "source": [
    "import os\n",
    "import numpy as np\n",
    "import pandas as pd\n",
    "import PySAM.Pvsamv1 as pv\n",
    "import matplotlib.pyplot as plt\n",
    "import urllib.request"
   ]
  },
  {
   "cell_type": "markdown",
   "id": "af00b77a",
   "metadata": {},
   "source": [
    "## Load Profile\n",
    "\n",
    "Getting our load profile"
   ]
  },
  {
   "cell_type": "code",
   "execution_count": 9,
   "id": "5512179c",
   "metadata": {},
   "outputs": [],
   "source": [
    "data_path = os.path.abspath(\"../data\")\n",
    "\n",
    "our_load_profile = np.loadtxt(os.path.join(data_path, \"Max_load_profile_for_year.txt\"), skiprows=1)"
   ]
  },
  {
   "cell_type": "code",
   "execution_count": 13,
   "id": "d1341654",
   "metadata": {},
   "outputs": [],
   "source": [
    "# Declare all variables as strings. Spaces must be replaced with '+', i.e., change 'John Smith' to 'John+Smith'.\n",
    "# Define the lat, long of the location and the year\n",
    "#lat, lon, year = 47.65,-122.3,2019\n",
    "# You must request an NSRDB api key from the link above\n",
    "api_key = 'dYmj0MPsG0ngTV1VdHqmTUEe4TPX9fxIS45FsOal'\n",
    "# Set the attributes to extract (e.g., dhi, ghi, etc.), separated by commas.\n",
    "attributes = 'ghi,dhi,dni,wind_speed,air_temperature,solar_zenith_angle'\n",
    "# Choose year of data\n",
    "#year = '2019'\n",
    "# Set leap year to true or false. True will return leap day data if present, false will not.\n",
    "leap_year = 'false'\n",
    "# Set time interval in minutes, i.e., '30' is half hour intervals. Valid intervals are 30 & 60.\n",
    "interval = '60'\n",
    "# Specify Coordinated Universal Time (UTC), 'true' will use UTC, 'false' will use the local time zone of the data.\n",
    "# NOTE: In order to use the NSRDB data in SAM, you must specify UTC as 'false'. SAM requires the data to be in the\n",
    "# local time zone.\n",
    "utc = 'false'\n",
    "# Your full name, use '+' instead of spaces.\n",
    "your_name = 'Cassidy+Quigley'\n",
    "# Your reason for using the NSRDB.\n",
    "reason_for_use = 'beta+testing'\n",
    "# Your affiliation\n",
    "your_affiliation = 'University+of+Washington'\n",
    "# Your email address\n",
    "your_email = 'ccq@uw.edu'\n",
    "# Please join our mailing list so we can keep you up-to-date on new developments.\n",
    "mailing_list = 'false'\n",
    "\n",
    "# Declare url string\n",
    "url = 'https://developer.nrel.gov/api/solar/nsrdb_psm3_download.csv?wkt=POINT({lon}%20{lat})&names={year}&leap_day={leap}&interval={interval}&utc={utc}&full_name={name}&email={email}&affiliation={affiliation}&mailing_list={mailing_list}&reason={reason}&api_key={api}&attributes={attr}'.format(year=year, lat=lat, lon=lon, leap=leap_year, interval=interval, utc=utc, name=your_name, email=your_email, mailing_list=mailing_list, affiliation=your_affiliation, reason=reason_for_use, api=api_key, attr=attributes)\n",
    "test = urllib.request.urlretrieve(url, data_path + \"/irradiance.csv\")"
   ]
  },
  {
   "cell_type": "markdown",
   "id": "33ac5a1c",
   "metadata": {},
   "source": [
    "## PV Model - \"PVBatteryResidential\"\n",
    "\n",
    "`PVBatteryResidential` is one of the buit-in models in PySAM. We will use it for our analysis as it meets all of our basic requirements.\n",
    "\n",
    "- Instantiate the model with default values\n",
    "- Specify the solar resource file for the location\n",
    "- Assign the load profile (defined above) to the the model. This will inform the model what kind of load our system will support\n",
    "- Pick module and inverter models - can design our own with specifications as needed but here we will pick from the available database\n",
    "- Identify the minimum and the maximum number of modules that can be in a string (*connected in series*). This is to make sure we are in the operating range for the inverter. The number of modules we select to be connected in a string must fall between these min and max values\n",
    "- Design the system :\n",
    "    - Set inverter count - *how many inverters do we want?*\n",
    "    - For a single subarray:\n",
    "        - Assign the number of modules in a string (*modules in series*)\n",
    "        - Assign the number of strings (*rows (in parallel)*)\n",
    "        - Fixed axis system or tracking (*tracking means it will track the sun throughout the day*)\n",
    "    - Repeat for desired number of subarrays\n",
    "- Specify Battery system specs: charge, discharge\n",
    "- Identify power dispatch from battery\n",
    "    - Manually control - specify when to charge and discharge the battery (*this makes more sense if you look at the UI in SAM*)\n",
    "- Execute the model!"
   ]
  },
  {
   "cell_type": "markdown",
   "id": "334a5c2e",
   "metadata": {},
   "source": [
    "Refer [this link](https://sam.nrel.gov/images/webinar_files/sam-webinars-2020-modeling-pv-systems.pdf) for detailed explanation on MMPT, subarray, strings, etc"
   ]
  },
  {
   "cell_type": "code",
   "execution_count": 15,
   "id": "1a8574f6",
   "metadata": {},
   "outputs": [],
   "source": [
    "def execute_pvmodel(number_of_modules_per_string, number_of_strings, n_inverters=4):\n",
    "    \n",
    "    # initialize model with defaults\n",
    "    pvmodel = pv.default('PVBatteryResidential')\n",
    "    \n",
    "    # sepcify solar resource file for the location\n",
    "    pvmodel.SolarResource.solar_resource_file = os.path.join(data_path, \"irradiance.csv\")\n",
    "    # load profile (defined above)\n",
    "    our_load_profile = np.loadtxt(os.path.join(data_path, \"Max_load_profile_for_year.txt\"), skiprows=1)\n",
    "    \n",
    "    pvmodel.Load.load = tuple(our_load_profile)\n",
    "    \n",
    "    # select module and inverter from database\n",
    "    pvmodel.Module.module_model = 1 # set it to CEC model\n",
    "    \n",
    "    pvmodel.Inverter.inverter_model = 0. # set it to CEC\n",
    "    pvmodel.Inverter.inv_num_mppt = 1 # use single mmpts\n",
    "    \n",
    "    \n",
    "    ## Max number of modules in a string\n",
    "    max_modules_in_string = pvmodel.Inverter.mppt_hi_inverter/pvmodel.CECPerformanceModelWithModuleDatabase.cec_v_oc_ref\n",
    "    \n",
    "    ## Min number of modules in a string\n",
    "    min_modules_in_string = pvmodel.Inverter.mppt_low_inverter/pvmodel.CECPerformanceModelWithModuleDatabase.cec_v_oc_ref\n",
    "    \n",
    "    # modules per string specified must be within (min, max) modules required\n",
    "    assert number_of_modules_per_string > min_modules_in_string\n",
    "    assert number_of_modules_per_string < max_modules_in_string\n",
    "    \n",
    "    # System Design\n",
    "    pvmodel.SystemDesign.inverter_count = n_inverters\n",
    "\n",
    "    pvmodel.SystemDesign.subarray1_modules_per_string = number_of_modules_per_string\n",
    "    pvmodel.SystemDesign.subarray1_nstrings = number_of_strings\n",
    "    pvmodel.SystemDesign.subarray1_mppt_input = 1\n",
    "    pvmodel.SystemDesign.subarray1_track_mode = 0 # fixed tracking\n",
    "\n",
    "    pvmodel.SystemDesign.subarray2_enable = 1\n",
    "    pvmodel.SystemDesign.subarray2_modules_per_string = number_of_modules_per_string\n",
    "    pvmodel.SystemDesign.subarray2_nstrings = number_of_strings\n",
    "    pvmodel.SystemDesign.subarray2_mppt_input = 1\n",
    "    pvmodel.SystemDesign.subarray2_track_mode = 0 # fixed tracking\n",
    "\n",
    "    pvmodel.SystemDesign.subarray3_enable = 1\n",
    "    pvmodel.SystemDesign.subarray3_modules_per_string = number_of_modules_per_string\n",
    "    pvmodel.SystemDesign.subarray3_nstrings = number_of_strings\n",
    "    pvmodel.SystemDesign.subarray3_mppt_input = 1\n",
    "    pvmodel.SystemDesign.subarray3_track_mode = 0 # fixed tracking\n",
    "\n",
    "    pvmodel.SystemDesign.subarray4_enable = 1\n",
    "    pvmodel.SystemDesign.subarray4_modules_per_string = number_of_modules_per_string\n",
    "    pvmodel.SystemDesign.subarray4_nstrings = number_of_strings\n",
    "    pvmodel.SystemDesign.subarray4_mppt_input = 1\n",
    "    pvmodel.SystemDesign.subarray4_track_mode = 0 # fixed tracking\n",
    "    \n",
    "    # Total Capacity of the system\n",
    "    mod_power_rating = pvmodel.CECPerformanceModelWithModuleDatabase.cec_v_mp_ref * pvmodel.CECPerformanceModelWithModuleDatabase.cec_i_mp_ref\n",
    "    pvmodel.SystemDesign.system_capacity = mod_power_rating * 4 * number_of_modules_per_string * number_of_strings\n",
    "    \n",
    "    # Battery system design - charge/discharge\n",
    "    pvmodel.BatterySystem.batt_current_charge_max = 24\n",
    "    pvmodel.BatterySystem.batt_current_discharge_max = 24\n",
    "\n",
    "    pvmodel.BatterySystem.batt_power_charge_max_kwac = 12\n",
    "    pvmodel.BatterySystem.batt_power_discharge_max_kwac= 11\n",
    "\n",
    "    pvmodel.BatterySystem.batt_power_charge_max_kwdc = 12\n",
    "    pvmodel.BatterySystem.batt_power_discharge_max_kwdc= 12\n",
    "\n",
    "    # MUST ENABLE Battery storage!!\n",
    "    pvmodel.BatterySystem.en_batt = 1\n",
    "    \n",
    "#     pvmodel.BatterySystem.batt_computed_bank_capacity = batt_bank_capacity # kWh\n",
    "#     pvmodel.BatterySystem.batt_computed_series = 139\n",
    "#     pvmodel.BatterySystem.batt_computed_strings = 48\n",
    "#     pvmodel.BatterySystem.batt_power_charge_max_kwac = 10.417\n",
    "#     pvmodel.BatterySystem.batt_power_discharge_max_kwac = 9.6\n",
    "#     pvmodel.BatterySystem.batt_power_charge_max_kwdc = 9.982\n",
    "#     pvmodel.BatterySystem.batt_power_discharge_max_kwdc = 9.982\n",
    "\n",
    "    # Battery Dispatch\n",
    "    pvmodel.BatteryDispatch.batt_dispatch_choice = 4.0 # manual discharge\n",
    "    pvmodel.BatteryDispatch.dispatch_manual_charge = (1, 1, 1, 1, 0, 0)\n",
    "    pvmodel.BatteryDispatch.dispatch_manual_discharge = (1, 1, 1, 1, 0, 0)\n",
    "    pvmodel.BatteryDispatch.dispatch_manual_percent_discharge = (25, 25, 25, 75)\n",
    "    \n",
    "    # Finally, run the model!\n",
    "    pvmodel.execute()\n",
    "    \n",
    "    return pvmodel"
   ]
  },
  {
   "cell_type": "markdown",
   "id": "ce32e156",
   "metadata": {},
   "source": [
    "## Single Scenario\n",
    "\n",
    "First, we will execute the model for a single sceanario: \n",
    "- `number_of_modules_per_string=5` (*connected in series*)\n",
    "- `number_of_strings=6` (*rows of modules in parallel*)\n",
    "- `n_inverter=10` (*number of inverters*)"
   ]
  },
  {
   "cell_type": "code",
   "execution_count": 16,
   "id": "67b2e39e",
   "metadata": {},
   "outputs": [
    {
     "name": "stdout",
     "output_type": "stream",
     "text": [
      "CPU times: user 49.3 s, sys: 512 ms, total: 49.8 s\n",
      "Wall time: 56.5 s\n"
     ]
    }
   ],
   "source": [
    "%%time\n",
    "pvmodel = execute_pvmodel(5, 6, n_inverters=10)"
   ]
  },
  {
   "cell_type": "markdown",
   "id": "814dc908",
   "metadata": {},
   "source": [
    "### Calculate total system uptime \n",
    "\n",
    "System uptime is basicaly how many hours during the system lifetime will the energy generated by the system be enough or more than the instantaneous load.\n",
    "\n",
    "We can calculate this: \n",
    "    `PV SYSTEM TO LOAD` + `BATTERY TO LOAD` - `LOAD PROFILE` > 0"
   ]
  },
  {
   "cell_type": "code",
   "execution_count": 17,
   "id": "dbd71cde",
   "metadata": {},
   "outputs": [
    {
     "data": {
      "text/plain": [
       "(0.2762054794520548, 60489)"
      ]
     },
     "execution_count": 17,
     "metadata": {},
     "output_type": "execute_result"
    }
   ],
   "source": [
    "uptime_hours = np.count_nonzero(\n",
    "        (np.array(pvmodel.Outputs.system_to_load) + \n",
    "         np.array(pvmodel.Outputs.batt_to_load) - \n",
    "         np.tile(our_load_profile, 25)  # repeat load profile for 25 years\n",
    "        ) == 0 \n",
    "    )\n",
    "    \n",
    "uptime_hours/(365 * 24 * 25) , uptime_hours  # percent uptime for 25 years"
   ]
  },
  {
   "cell_type": "code",
   "execution_count": 18,
   "id": "c35f04ed",
   "metadata": {},
   "outputs": [
    {
     "data": {
      "text/plain": [
       "<BarContainer object of 12 artists>"
      ]
     },
     "execution_count": 18,
     "metadata": {},
     "output_type": "execute_result"
    },
    {
     "data": {
      "image/png": "[encoded data removed]",
      "text/plain": [
       "<Figure size 432x288 with 1 Axes>"
      ]
     },
     "metadata": {
      "needs_background": "light"
     },
     "output_type": "display_data"
    }
   ],
   "source": [
    "months = [\"Jan\", \"Feb\", \"March\", \"April\", \"May\", \"June\", \"July\", \"August\", \"Sep\", \"Oct\", \"Nov\", \"Dec\"]\n",
    "plt.bar(months, pvmodel.Outputs.monthly_energy)"
   ]
  },
  {
   "cell_type": "markdown",
   "id": "61f05cd8",
   "metadata": {},
   "source": [
    "## Running multiple scenarios\n",
    "\n",
    "Now, we will evaluate multiple scenarios - we will look at a range of modules numbers and a range of strings to find minimum system requirements that satisfy maximum uptime"
   ]
  },
  {
   "cell_type": "code",
   "execution_count": 19,
   "id": "a2df6fe0",
   "metadata": {},
   "outputs": [],
   "source": [
    "pvmodels_param_dict = []\n",
    "pvmodels = []"
   ]
  },
  {
   "cell_type": "code",
   "execution_count": 20,
   "id": "fc6c4d5f",
   "metadata": {},
   "outputs": [
    {
     "name": "stdout",
     "output_type": "stream",
     "text": [
      "CPU times: user 35min 29s, sys: 18 s, total: 35min 47s\n",
      "Wall time: 38min 37s\n"
     ]
    }
   ],
   "source": [
    "%%time\n",
    "\n",
    "# l = []  # for testing purposes\n",
    "\n",
    "for m in range(2,8): # m is no of modules\n",
    "    for n in range(4,15): # n is no of strings\n",
    "        if m*n >=30:\n",
    "#             l.append([m,n])\n",
    "            pvmodels_param_dict.append({\"modules_per_string\" : m, \"number_of_strings\" : n})\n",
    "            z = execute_pvmodel(m,n, n_inverters=5)\n",
    "            pvmodels.append(z)"
   ]
  },
  {
   "cell_type": "code",
   "execution_count": 21,
   "id": "93eb40e7",
   "metadata": {},
   "outputs": [
    {
     "data": {
      "text/plain": [
       "41"
      ]
     },
     "execution_count": 21,
     "metadata": {},
     "output_type": "execute_result"
    }
   ],
   "source": [
    "len(pvmodels)"
   ]
  },
  {
   "cell_type": "code",
   "execution_count": 22,
   "id": "961b94c9",
   "metadata": {},
   "outputs": [
    {
     "data": {
      "text/plain": [
       "<Pvsamv1 at 0x11bbc2bc0>"
      ]
     },
     "execution_count": 22,
     "metadata": {},
     "output_type": "execute_result"
    }
   ],
   "source": [
    "pvmodels[0]"
   ]
  },
  {
   "cell_type": "code",
   "execution_count": 23,
   "id": "94b03779",
   "metadata": {},
   "outputs": [],
   "source": [
    "uptime_percent = []\n",
    "\n",
    "for i in range(len(pvmodels)):\n",
    "    uptime_hours = np.count_nonzero(\n",
    "        (np.array(pvmodels[i].Outputs.system_to_load) + \n",
    "         np.array(pvmodels[i].Outputs.batt_to_load) - \n",
    "         np.tile(our_load_profile, 25)  # repeat load profile for 25 years\n",
    "        ) == 0 \n",
    "    )\n",
    "    \n",
    "    uptime_percent.append(uptime_hours/(365 * 24 * 25))"
   ]
  },
  {
   "cell_type": "code",
   "execution_count": 24,
   "id": "2b4cf702",
   "metadata": {},
   "outputs": [
    {
     "data": {
      "text/plain": [
       "[0.27878538812785386,\n",
       " 0.2920365296803653,\n",
       " 0.3039360730593607,\n",
       " 0.31552054794520545,\n",
       " 0.32601826484018265,\n",
       " 0.28806392694063926,\n",
       " 0.30411872146118724,\n",
       " 0.31958447488584474,\n",
       " 0.33178995433789954,\n",
       " 0.34200456621004566,\n",
       " 0.3510821917808219,\n",
       " 0.35984474885844747,\n",
       " 0.2791689497716895,\n",
       " 0.30033789954337897,\n",
       " 0.31980821917808216,\n",
       " 0.334689497716895,\n",
       " 0.34684931506849315,\n",
       " 0.357958904109589,\n",
       " 0.3680776255707763,\n",
       " 0.37740182648401827,\n",
       " 0.38531506849315067,\n",
       " 0.27935159817351596,\n",
       " 0.3044840182648402,\n",
       " 0.3265616438356164,\n",
       " 0.34227397260273973,\n",
       " 0.35591324200913244,\n",
       " 0.36827397260273975,\n",
       " 0.37922374429223743,\n",
       " 0.38858904109589043,\n",
       " 0.3968812785388128,\n",
       " 0.403337899543379,\n",
       " 0.30069406392694065,\n",
       " 0.3267214611872146,\n",
       " 0.34488584474885847,\n",
       " 0.36026940639269406,\n",
       " 0.3740639269406393,\n",
       " 0.3856255707762557,\n",
       " 0.39572146118721463,\n",
       " 0.4034109589041096,\n",
       " 0.41012785388127854,\n",
       " 0.4180091324200913]"
      ]
     },
     "execution_count": 24,
     "metadata": {},
     "output_type": "execute_result"
    }
   ],
   "source": [
    "uptime_percent"
   ]
  },
  {
   "cell_type": "code",
   "execution_count": 25,
   "id": "51ff471a",
   "metadata": {},
   "outputs": [
    {
     "data": {
      "text/plain": [
       "[{'modules_per_string': 3, 'number_of_strings': 10},\n",
       " {'modules_per_string': 3, 'number_of_strings': 11},\n",
       " {'modules_per_string': 3, 'number_of_strings': 12},\n",
       " {'modules_per_string': 3, 'number_of_strings': 13},\n",
       " {'modules_per_string': 3, 'number_of_strings': 14},\n",
       " {'modules_per_string': 4, 'number_of_strings': 8},\n",
       " {'modules_per_string': 4, 'number_of_strings': 9},\n",
       " {'modules_per_string': 4, 'number_of_strings': 10},\n",
       " {'modules_per_string': 4, 'number_of_strings': 11},\n",
       " {'modules_per_string': 4, 'number_of_strings': 12},\n",
       " {'modules_per_string': 4, 'number_of_strings': 13},\n",
       " {'modules_per_string': 4, 'number_of_strings': 14},\n",
       " {'modules_per_string': 5, 'number_of_strings': 6},\n",
       " {'modules_per_string': 5, 'number_of_strings': 7},\n",
       " {'modules_per_string': 5, 'number_of_strings': 8},\n",
       " {'modules_per_string': 5, 'number_of_strings': 9},\n",
       " {'modules_per_string': 5, 'number_of_strings': 10},\n",
       " {'modules_per_string': 5, 'number_of_strings': 11},\n",
       " {'modules_per_string': 5, 'number_of_strings': 12},\n",
       " {'modules_per_string': 5, 'number_of_strings': 13},\n",
       " {'modules_per_string': 5, 'number_of_strings': 14},\n",
       " {'modules_per_string': 6, 'number_of_strings': 5},\n",
       " {'modules_per_string': 6, 'number_of_strings': 6},\n",
       " {'modules_per_string': 6, 'number_of_strings': 7},\n",
       " {'modules_per_string': 6, 'number_of_strings': 8},\n",
       " {'modules_per_string': 6, 'number_of_strings': 9},\n",
       " {'modules_per_string': 6, 'number_of_strings': 10},\n",
       " {'modules_per_string': 6, 'number_of_strings': 11},\n",
       " {'modules_per_string': 6, 'number_of_strings': 12},\n",
       " {'modules_per_string': 6, 'number_of_strings': 13},\n",
       " {'modules_per_string': 6, 'number_of_strings': 14},\n",
       " {'modules_per_string': 7, 'number_of_strings': 5},\n",
       " {'modules_per_string': 7, 'number_of_strings': 6},\n",
       " {'modules_per_string': 7, 'number_of_strings': 7},\n",
       " {'modules_per_string': 7, 'number_of_strings': 8},\n",
       " {'modules_per_string': 7, 'number_of_strings': 9},\n",
       " {'modules_per_string': 7, 'number_of_strings': 10},\n",
       " {'modules_per_string': 7, 'number_of_strings': 11},\n",
       " {'modules_per_string': 7, 'number_of_strings': 12},\n",
       " {'modules_per_string': 7, 'number_of_strings': 13},\n",
       " {'modules_per_string': 7, 'number_of_strings': 14}]"
      ]
     },
     "execution_count": 25,
     "metadata": {},
     "output_type": "execute_result"
    }
   ],
   "source": [
    "pvmodels_param_dict"
   ]
  },
  {
   "cell_type": "code",
   "execution_count": 26,
   "id": "ca2495ad",
   "metadata": {},
   "outputs": [
    {
     "data": {
      "text/plain": [
       "<BarContainer object of 12 artists>"
      ]
     },
     "execution_count": 26,
     "metadata": {},
     "output_type": "execute_result"
    },
    {
     "data": {
      "image/png": "[encoded data removed]",
      "text/plain": [
       "<Figure size 432x288 with 1 Axes>"
      ]
     },
     "metadata": {
      "needs_background": "light"
     },
     "output_type": "display_data"
    }
   ],
   "source": [
    "months = [\"Jan\", \"Feb\", \"March\", \"April\", \"May\", \"June\", \"July\", \"August\", \"Sep\", \"Oct\", \"Nov\", \"Dec\"]\n",
    "plt.bar(months, pvmodels[0].Outputs.monthly_energy)"
   ]
  },
  {
   "cell_type": "code",
   "execution_count": 27,
   "id": "5da01cf5",
   "metadata": {},
   "outputs": [
    {
     "data": {
      "text/plain": [
       "array([-0.726     , -0.726     , -0.726     , -0.726     , -0.726     ,\n",
       "       -0.726     , -0.726     , -0.726     , -9.56955633, -7.14987875,\n",
       "       -7.04909263, -7.87087892, -5.69753726, -8.47128446, -3.85718383,\n",
       "       -9.63331519, -9.671     , -9.671     , -9.671     , -9.671     ,\n",
       "       -0.726     , -0.726     , -0.726     , -0.726     ])"
      ]
     },
     "execution_count": 27,
     "metadata": {},
     "output_type": "execute_result"
    }
   ],
   "source": [
    "(np.array(pvmodels[0].Outputs.system_to_load) + np.array(pvmodels[0].Outputs.batt_to_load) - np.tile(our_load_profile, 25))[-24:]"
   ]
  },
  {
   "cell_type": "code",
   "execution_count": null,
   "id": "d5e17172",
   "metadata": {},
   "outputs": [],
   "source": []
  }
 ],
 "metadata": {
  "interpreter": {
   "hash": "b4490a3ef4012f76720e910010dc06ec0e520b99ff845e61f1506189665bbf04"
  },
  "kernelspec": {
   "display_name": "Python 3 (ipykernel)",
   "language": "python",
   "name": "python3"
  },
  "language_info": {
   "codemirror_mode": {
    "name": "ipython",
    "version": 3
   },
   "file_extension": ".py",
   "mimetype": "text/x-python",
   "name": "python",
   "nbconvert_exporter": "python",
   "pygments_lexer": "ipython3",
   "version": "3.8.12"
  }
 },
 "nbformat": 4,
 "nbformat_minor": 5
}
